{
 "cells": [
  {
   "cell_type": "code",
   "execution_count": 1,
   "id": "d18daffb-416a-43c6-8f80-e795d8c73af0",
   "metadata": {},
   "outputs": [
    {
     "data": {
      "application/vnd.jupyter.widget-view+json": {
       "model_id": "8b2d6640ef0e4b8bb8130ec1b333f16a",
       "version_major": 2,
       "version_minor": 0
      },
      "text/plain": [
       "interactive(children=(IntSlider(value=4, description='m', max=12, min=-4), FloatSlider(value=0.5, description=…"
      ]
     },
     "metadata": {},
     "output_type": "display_data"
    }
   ],
   "source": [
    "from ipywidgets import interact, interactive, fixed, interact_manual\n",
    "import ipywidgets as widgets\n",
    "import matplotlib.pyplot as plt\n",
    "import psychro as psy\n",
    "\n",
    "# %matplotlib inline  # uncomment for inline figure\n",
    "# uncomment for figure in separate window\n",
    "# %matplotlib qt\n",
    "# plt.show()\n",
    "\n",
    "plt.rcParams[\"figure.figsize\"] = (30,20)\n",
    "font = {'weight' : 'bold',\n",
    "        'size'   : 30}\n",
    "plt.rc('font', **font)\n",
    "\n",
    "def RecHX_wd(m=4, β=0.5, θ3=18, φ3=0.5, θ1=-1, φ1=1):\n",
    "    θS = 30\n",
    "    UA = 5000\n",
    "    from HX import RecHXdry\n",
    "    from HX import ModelHXdry\n",
    "    from HX import RecHX\n",
    "    x = ModelHXdry(m, β, θS, θ1, φ1, θ3, φ3, UA)\n",
    "    if x[3] > psy.w(x[2], 1):  # x[15]\n",
    "        RecHX(m, β, θS, θ3, φ3, θ1, φ1, UA)\n",
    "        print(\"Sat HX\")\n",
    "    else:\n",
    "        RecHXdry(m, β, θS, θ3, φ3, θ1, φ1, UA)\n",
    "        print(\"HX dry\")\n",
    "\n",
    "\n",
    "interact(RecHX_wd, β=(0,0.99,0.1),\n",
    "         θSsp = (20,50,2),\n",
    "         θ3sp = (17,25,1), φ3sp = (0,1,0.1),\n",
    "         θ1 = (-10.,17.,2), φ1 = (0,1,0.1));"
   ]
  }
 ],
 "metadata": {
  "kernelspec": {
   "display_name": "Python 3 (ipykernel)",
   "language": "python",
   "name": "python3"
  },
  "language_info": {
   "codemirror_mode": {
    "name": "ipython",
    "version": 3
   },
   "file_extension": ".py",
   "mimetype": "text/x-python",
   "name": "python",
   "nbconvert_exporter": "python",
   "pygments_lexer": "ipython3",
   "version": "3.9.12"
  }
 },
 "nbformat": 4,
 "nbformat_minor": 5
}
