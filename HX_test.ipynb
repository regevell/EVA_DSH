{
 "cells": [
  {
   "cell_type": "code",
   "execution_count": 1,
   "id": "d18daffb-416a-43c6-8f80-e795d8c73af0",
   "metadata": {},
   "outputs": [
    {
     "data": {
      "application/vnd.jupyter.widget-view+json": {
       "model_id": "19f4e784e0334834a82ab64a4250195a",
       "version_major": 2,
       "version_minor": 0
      },
      "text/plain": [
       "interactive(children=(FloatSlider(value=0.1, description='β', max=0.99), IntSlider(value=30, description='θS',…"
      ]
     },
     "metadata": {},
     "output_type": "display_data"
    }
   ],
   "source": [
    "from ipywidgets import interact, interactive, fixed, interact_manual\n",
    "import ipywidgets as widgets\n",
    "import matplotlib.pyplot as plt\n",
    "\n",
    "# %matplotlib inline  # uncomment for inline figure\n",
    "# uncomment for figure in separate window\n",
    "# %matplotlib qt\n",
    "# plt.show()\n",
    "\n",
    "plt.rcParams[\"figure.figsize\"] = (30,20)\n",
    "font = {'weight' : 'bold',\n",
    "        'size'   : 30}\n",
    "plt.rc('font', **font)\n",
    "\n",
    "def RecHX_wd(β=0.1, θS=30, θ3=18, φ3=0.5, θ1=-1, φ1=1):\n",
    "\n",
    "    UA = 935.83\n",
    "    from HX import RecHX\n",
    "    RecHX(β, θS, θ3, φ3, θ1, φ1, UA)\n",
    "\n",
    "interact(RecHX_wd, β=(0,0.99,0.1),\n",
    "         θSsp = (20,50,2),\n",
    "         θ3sp = (17,25,1), φ3sp = (0,1,0.1),\n",
    "         θ1 = (-10.,17.,2), φ1 = (0,1,0.1));\n"
   ]
  }
 ],
 "metadata": {
  "kernelspec": {
   "display_name": "Python 3 (ipykernel)",
   "language": "python",
   "name": "python3"
  },
  "language_info": {
   "codemirror_mode": {
    "name": "ipython",
    "version": 3
   },
   "file_extension": ".py",
   "mimetype": "text/x-python",
   "name": "python",
   "nbconvert_exporter": "python",
   "pygments_lexer": "ipython3",
   "version": "3.8.8"
  }
 },
 "nbformat": 4,
 "nbformat_minor": 5
}
