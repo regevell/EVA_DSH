{
 "cells": [
  {
   "cell_type": "markdown",
   "id": "13564ef7",
   "metadata": {},
   "source": [
    "# Recirculated VAV HVAC System"
   ]
  },
  {
   "cell_type": "markdown",
   "id": "9a517c0f",
   "metadata": {},
   "source": [
    "## Introduction\n",
    "For our group project we have decided to model a recirculated air variable air volume (VAV) HVAC system with heat recovery, heating coils and adiabatic humidification. The schematic diagram for this system is shown below.\n",
    "\n",
    "<img src=\"Model Legend.png\" style=\"margin:auto\"/>"
   ]
  },
  {
   "cell_type": "markdown",
   "id": "3e2cc3b6-5664-4b9b-a8e8-4ec0e7473fdf",
   "metadata": {},
   "source": [
    "## Modelled Building\n",
    "To use our HVAC model we have created an office block in the UK which is shown in the pictures below. To obtain the sensible heat load of the building we will be using the previous code we built for the EVA-DMBEM project in the autumn sesmeter of 2021 which will give an output of the maximum building heat loss coefficient (W/K), $(UA)_{bhlc}$ which can then be used as an input for the HVAC model.\n",
    "\n",
    "<table>\n",
    "  <tr>\n",
    "    <td>Front View Office Block - South Facing</td>\n",
    "     <td>Back View Office Block - North Facing</td>\n",
    "  </tr>\n",
    "  <tr>\n",
    "    <td><img src=\"Front View Office Block.jpg\" width=270 height=480></td>\n",
    "    <td><img src=\"Back View Office Block.jpg\" width=270 height=480></td>\n",
    "  </tr>\n",
    " </table>\n",
    " \n",
    "<table>\n",
    "  <tr>\n",
    "    <td>Side View Office Block - East/West Facing</td>\n",
    "  </tr>\n",
    "  <tr>\n",
    "    <td><img src=\"Side View Office Block.jpg\" width=270 height=480></td>\n",
    "  </tr>\n",
    " </table>\n",
    " \n",
    " We have assumed the following for the building:"
   ]
  },
  {
   "cell_type": "markdown",
   "id": "0fc61260-1f16-4d47-b641-3d2507553245",
   "metadata": {},
   "source": [
    " * The walls, floor and the flat roof are made of concrete with a layer of insulation on the inside.\n",
    " * The windows and door are double glazed."
   ]
  },
  {
   "cell_type": "markdown",
   "id": "e6525d82-b657-45a7-8738-f5bf20c54e4e",
   "metadata": {},
   "source": [
    "We have assume that the thermal bridges of the building have been insulated and therefore have a negligible effect on the sensible heat transfer. Therefore, the sensible heat can be calculated using equation 1.2.0 where $\\dot{m}_{inf}$, $\\theta_{O}$, $\\theta_{I}$, $\\theta_{0}$, $\\dot{Q}_{s,aux}$ can be adjusted in the widget window.\n",
    "\n",
    "\\begin{equation}\n",
    "\\dot{Q}_s = (UA)_{bhlc} (\\theta_{O} - \\theta_{I}) + \\dot{m}_{inf}c(\\theta_{0} - \\theta_{I}) + \\dot{Q}_{s,aux}  \\tag{1.2.0}\n",
    "\\end{equation}"
   ]
  },
  {
   "cell_type": "markdown",
   "id": "b6a1c3d6-de6b-45f9-968a-d1fdf7b02f55",
   "metadata": {
    "tags": []
   },
   "source": [
    "## Adiabatic Mixing\n",
    "In some cases where mixing occurs the resulting mixing point can have a relative humidity greater than 100 % which is not physically possible as the water in the air will condense as soon as the air is over saturated. This therefore must be compensated for in the computational model by adding adiabatic mixing, where the latent heat of the air at the mixing point is transferred into sensible heat at a constant specific enthalpy value. This will move the mixing point from the oversaturated region to the saturation curve.\n",
    "\n",
    "The basis code of the above model are the functions ModelRecAir and RecAirVAV from the file ad_hum.py. Since the model contains two mixing boxes, there are four possible cases each one with a different A-matrix:\n",
    "\n",
    "    1. The mixingpoints after both the first and the second mixing boxes are below a relative humidity (RH) of 100 %\n",
    "        --> no adiabatic mixing has to be added.\n",
    "    2. The mixingpoint after the first mixing box is below 100 % RH but the mixingpoint after the second is above 100 % RH\n",
    "        --> adiabatic mixing has to be added to the second.\n",
    "    3. The mixingpoint after the first mixing box is above 100 % RH and the mixingpoint after the second is below 100 % RH\n",
    "        --> adiabatic mixing has to be added to the first.\n",
    "    4. The mixingpoints after both the first and the second mixing box are above 100 % RH.\n",
    "        --> adiabatic mixing has to be added to both.\n",
    "    \n",
    " For each case new \"ModelRecAir\" and \"RecAirVAV\" functions were created:\n",
    "     \n",
    "    1.  ModelRecAirmxmx, RecAirVAVmxmx\n",
    "    2.  ModelRecAirmxma, RecAirVAVmxma\n",
    "    3.  ModelRecAirmamx, RecAirVAVmamx\n",
    "    4.  ModelRecAirmama, RecAirVAVmama\n",
    "    \n",
    "To decide which of these submodels has to be used, the algorithm introduced in the file mix.py was used. This means, that first a solution vector x is calculated with the RecAirVAV_adTest function, which is equivalent to the RecAirVaVmama function, but does not producce a diagram and returns x. After that it is checked whether the mixingpoints are below the saturation curve by comparing the humidity ratio of the point to the humidity ratio at a 100 % RH at the same temperature. According to this the correct model is called."
   ]
  },
  {
   "cell_type": "code",
   "execution_count": 1,
   "id": "f7740938-57a9-48d1-8693-b60c22f180fb",
   "metadata": {},
   "outputs": [
    {
     "data": {
      "application/vnd.jupyter.widget-view+json": {
       "model_id": "2e4018335bd14ca6b9d51e27f2d484df",
       "version_major": 2,
       "version_minor": 0
      },
      "text/plain": [
       "interactive(children=(FloatSlider(value=1.0, description='α', max=1.0), FloatSlider(value=0.1, description='β'…"
      ]
     },
     "metadata": {},
     "output_type": "display_data"
    }
   ],
   "source": [
    "from ipywidgets import interact, interactive, fixed, interact_manual\n",
    "import ipywidgets as widgets\n",
    "import matplotlib.pyplot as plt\n",
    "import psychro as psy\n",
    "\n",
    "# %matplotlib inline  # uncomment for inline figure\n",
    "# uncomment for figure in separate window\n",
    "# %matplotlib qt\n",
    "# plt.show()\n",
    "\n",
    "plt.rcParams[\"figure.figsize\"] = (30,20)\n",
    "font = {'weight' : 'bold',\n",
    "        'size'   : 30}\n",
    "plt.rc('font', **font)\n",
    "\n",
    "def RecAirVAV_wd(α=1, β=0.1, θS=30, θIsp=18, φIsp=0.5, θO=-1, φO=1):\n",
    "    Qsa = 0.\n",
    "    Qla = 0.\n",
    "    mi = 2.12\n",
    "    UA = 935.83\n",
    "    from ad_hum import RecAirVAVmxmx, RecAirVAVmxma, RecAirVAVmamx, RecAirVAVmama, RecAirVAV_adTest\n",
    "    \n",
    "    x = RecAirVAV_adTest(α, β, θS, θIsp, φIsp, θO, φO, Qsa, Qla, mi, UA)\n",
    "\n",
    "    if x[9] > psy.w(x[8], 1):\n",
    "        if x[1] > psy.w(x[0], 1):\n",
    "            RecAirVAVmama(α, β, θS, θIsp, φIsp, θO, φO, Qsa, Qla, mi, UA)\n",
    "            print('mama')\n",
    "        else:\n",
    "            RecAirVAVmxma(α, β, θS, θIsp, φIsp, θO, φO, Qsa, Qla, mi, UA)\n",
    "            print('mxma')\n",
    "    elif x[1] > psy.w(x[0], 1):\n",
    "        RecAirVAVmamx(α, β, θS, θIsp, φIsp, θO, φO, Qsa, Qla, mi, UA)\n",
    "        print('mamx')\n",
    "    else:\n",
    "        RecAirVAVmxmx(α, β, θS, θIsp, φIsp, θO, φO, Qsa, Qla, mi, UA)\n",
    "        print('mxmx')\n",
    "    \n",
    "interact(RecAirVAV_wd, α=(0, 1, 0.1), β=(0, 0.99, 0.1), θSsp=(20, 50, 2),\n",
    "         θIsp=(17, 25, 1), φIsp=(0, 1, 0.1),\n",
    "         θO = (-10., 17., 2), φO = (0, 1, 0.1));"
   ]
  },
  {
   "cell_type": "markdown",
   "id": "a5eb846b-ccb8-44ad-b877-7594f2079f2d",
   "metadata": {},
   "source": [
    "## Heat Recovery\n",
    "We have created a model for the heat recovery component of the system which extracts the heat from the exhaust air and transfers it to the incoming air using a heat exchanger. The three process blocks in the model is the cooling side of the exchanger (***XC***), the heating side of the exchanger (***XH***) and the mixing of the cooled and non-cooled exhaust air (***XM***). ***s*** denotes that the exit flow from XC is saturated vapour, where condensing of the water vapour has occured. The model is shown in the diagram below.\n",
    "\n",
    "<img src=\"Heat Exchanger Model.png\" style=\"margin:auto\"/>\n",
    "\n",
    "There are 9 unknown variables in the system:\n",
    "<p style=\"text-align: center;\">$\\theta_s$, $\\omega_s$, $\\theta_2$, $\\theta_4$, $\\omega_4$, $\\dot{Q}_s$, $\\dot{Q}_l$, $\\dot{Q}_x$, $\\dot{m}_w$ </p>\n",
    "\n",
    "There are 9 known variables in the system:\n",
    "<p style=\"text-align: center;\">$\\theta_1$, $\\omega_1$, $\\theta_3$, $\\omega_3$, $\\gamma$, $\\dot{m}_{da}$, $\\theta_s^0$, $\\omega_s^0$, $f'(\\theta_s^0)$</p>\n",
    "\n",
    "The 3 material characteristics of the the system are:\n",
    "<p style=\"text-align: center;\">$(UA)_{hx}$, $c_{da}$, $l$\n",
    "\n",
    "We therefore need 9 linear equations to solve for the number of unknown variables. These are shown below with the unknown values on the left hand side and the known variables on the righthand side:\n",
    "\\begin{equation}\n",
    "\\dot{Q}_x - \\dot{Q}_s - \\dot{Q}_l = 0  \\tag{1.2.0}\n",
    "\\end{equation}\n",
    "\\begin{equation}\n",
    "(UA)_{hx}\\theta_2 - (UA)_{hx}\\theta_4 + 2\\dot{Q}_s + 2\\dot{Q}_l = (UA)_{hx}(\\theta_3 - \\theta_3) \\tag{1.2.1}\n",
    "\\end{equation}\n",
    "\\begin{equation}\n",
    "\\dot{m}_{da}c_{da}\\theta_2 - \\dot{Q}_x - h_e\\dot{m}_{w} = \\dot{m}_{da}c_{da}\\theta_1 \\tag{1.2.2}\n",
    "\\end{equation}\n",
    "\\begin{equation}\n",
    "\\dot{m}_{w} = \\dot{m}_{da}(\\omega_3 - \\omega_4) \\tag{1.2.3}\n",
    "\\end{equation}\n",
    "\\begin{equation}\n",
    "(1 - \\gamma)\\dot{m}_{da}c_{da}\\theta_s + \\dot{Q}_s = (1 - \\gamma)\\dot{m}_{da}c_{da}\\theta_3 \\tag{1.2.4}\n",
    "\\end{equation}\n",
    "\\begin{equation}\n",
    "(1 - \\gamma)\\dot{m}_{da}l\\omega_s + \\dot{Q}_l = (1 - \\gamma)\\dot{m}_{da}l\\omega_3 \\tag{1.2.5}\n",
    "\\end{equation}\n",
    "\\begin{equation}\n",
    "f'(\\theta_s^0)\\theta_s - \\omega_s = f'(\\theta_s^0)\\theta_s^0 - \\omega_s^0 \\tag{1.2.6}\n",
    "\\end{equation}\n",
    "\\begin{equation}\n",
    "\\theta_4 - (1 - \\gamma)\\theta_s = \\gamma\\theta_3 \\tag{1.2.7}\n",
    "\\end{equation}\n",
    "\\begin{equation}\n",
    "\\omega_4 - (1 - \\gamma)\\omega_s = \\gamma\\omega_3 \\tag{1.2.8}\n",
    "\\end{equation}\n",
    "    \n",
    "The term $h_{e}\\dot{m}_{w}$ in equation (1.2.2) can be neglected as $\\dot{m}_{w}<<\\dot{m}_{da}$. This means we can also neglect equation (1.2.3) as it will have no significant effect on the system. By excluding $\\dot{m}_{w}$ this means there are now only 8 unknown variables and therefore only 8 linear equations are required. $(UA)_{hx}$ is the heat transfer coefficient of the heat exchanger and **not** the heat transfer coefficient of the building.\n",
    "\n",
    "The linear system of equations can be expressed in the matrix form **A** ***x*** = **b** where **A** is an 8 x 8 matrix containing the coefficients of the unknown variables, ***x*** is a 8 x 1 tensor of the unknown variables and **b** is a  8 x 1 tensor of the known values. These are shown below for defined system of linear equations.\n",
    "    \n",
    "$ \\color{black}{ A= \\left(\\begin{array}{cc}\n",
    "0 & 0 & 0 & 0 & 0 & -1 & -1 & 1 \\\\ \n",
    "(UA)_{hx} & 0 & 0 & -(UA)_{hx} & 0 & 2 & 2 & 0 \\\\ \n",
    "\\dot{m}_{da}c_{da} & 0 & 0 & 0 & 0 & 0 & 0 & -1 \\\\ \n",
    "0 & (1 - \\gamma)\\dot{m}_{da}c_{da} & 0 & 0 & 0 & 0 & 1 & 0 \\\\\n",
    "0 & 0 & (1 - \\gamma)\\dot{m}_{da}l & 0 & 0 & 1 & 0 & 0 \\\\\n",
    "0 & f'(\\theta_s^0) & -1 & 0 & 0 & 0 & 0 & 0 \\\\\n",
    "0 & -(1 - \\gamma) & 0 & 1 & 0 & 0 & 0 & 0 \\\\\n",
    "0 & 0 & -(1 - \\gamma) & 0 & 1 & 0 & 0 & 0\n",
    "\\end{array}\\right)\n",
    "}$\n",
    "\n",
    "$ \\color{black}{ x= \\left(\\begin{array}{cc}\n",
    "\\theta_2 \\\\ \n",
    "\\theta_s \\\\ \n",
    "\\omega_s \\\\ \n",
    "\\theta_4 \\\\ \n",
    "\\omega_4 \\\\\n",
    "\\dot{Q}_l \\\\\n",
    "\\dot{Q}_s \\\\\n",
    "\\dot{Q}_x \\\\\n",
    "\\end{array}\\right)\n",
    "}$\n",
    "    \n",
    "$ \\color{black}{ b= \\left(\\begin{array}{cc}\n",
    "0 \\\\ \n",
    "(UA)_{hx}(\\theta_3 - \\theta_4) \\\\ \n",
    "\\dot{m}_{da}c_{da}\\theta_1 \\\\ \n",
    "(1 - \\gamma)\\dot{m}_{da}c_{da}\\theta_3 \\\\\n",
    "(1 - \\gamma)\\dot{m}_{da}l\\omega_3 \\\\\n",
    "f'(\\theta_s^0)\\theta_s^0 - \\omega_s^0 \\\\\n",
    "\\gamma\\theta_3 \\\\\n",
    "\\gamma\\omega_3 \\\\\n",
    "\\end{array}\\right)\n",
    "}$"
   ]
  },
  {
   "cell_type": "markdown",
   "id": "cf0832e3-c79e-49e7-b199-002050f31712",
   "metadata": {},
   "source": [
    "The code for solving this linear set of equations is shown below which creates a pyschrometric chart with sliders of the input variables to see how the behaviour of the system changes."
   ]
  },
  {
   "cell_type": "code",
   "execution_count": null,
   "id": "867dafed-e906-470e-a754-7b39d81bff57",
   "metadata": {},
   "outputs": [],
   "source": [
    "from ipywidgets import interact, interactive, fixed, interact_manual\n",
    "import ipywidgets as widgets\n",
    "import matplotlib.pyplot as plt\n",
    "import psychro as psy\n",
    "\n",
    "# %matplotlib inline  # uncomment for inline figure\n",
    "# uncomment for figure in separate window\n",
    "# %matplotlib qt\n",
    "# plt.show()\n",
    "\n",
    "plt.rcParams[\"figure.figsize\"] = (30,20)\n",
    "font = {'weight' : 'bold',\n",
    "        'size'   : 30}\n",
    "plt.rc('font', **font)\n",
    "\n",
    "def RecAirVAV_wd(α=1, β=0.1, θS=30, θIsp=18, φIsp=0.5, θO=-1, φO=1):\n",
    "    Qsa = 0.\n",
    "    Qla = 0.\n",
    "    mi = 2.12\n",
    "    UA = 935.83\n",
    "    from ad_hum_HX import RecAirVAVmxmxHX, RecAirVAVmxmaHX, RecAirVAVmamxHX, RecAirVAVmamaHX, RecAirVAV_adTest\n",
    "    \n",
    "    x = RecAirVAV_adTest(α, β, θS, θIsp, φIsp, θO, φO, Qsa, Qla, mi, UA)\n",
    "\n",
    "    if x[9] > psy.w(x[8], 1):\n",
    "        if x[1] > psy.w(x[0], 1):\n",
    "            RecAirVAVmama(α, β, θS, θIsp, φIsp, θO, φO, Qsa, Qla, mi, UA)\n",
    "            print('mama')\n",
    "        else:\n",
    "            RecAirVAVmxma(α, β, θS, θIsp, φIsp, θO, φO, Qsa, Qla, mi, UA)\n",
    "            print('mxma')\n",
    "    elif x[1] > psy.w(x[0], 1):\n",
    "        RecAirVAVmamx(α, β, θS, θIsp, φIsp, θO, φO, Qsa, Qla, mi, UA)\n",
    "        print('mamx')\n",
    "    else:\n",
    "        RecAirVAVmxmx(α, β, θS, θIsp, φIsp, θO, φO, Qsa, Qla, mi, UA)\n",
    "        print('mxmx')\n",
    "    \n",
    "interact(RecAirVAV_wd, α=(0, 1, 0.1), β=(0, 0.99, 0.1), θSsp=(20, 50, 2),\n",
    "         θIsp=(17, 25, 1), φIsp=(0, 1, 0.1),\n",
    "         θO = (-10., 17., 2), φO = (0, 1, 0.1));"
   ]
  },
  {
   "cell_type": "markdown",
   "id": "a0ef0d25-5afc-49ed-b23b-d621c743240d",
   "metadata": {},
   "source": [
    "## VAV HVAC Heating and Humidification System"
   ]
  }
 ],
 "metadata": {
  "kernelspec": {
   "display_name": "Python 3 (ipykernel)",
   "language": "python",
   "name": "python3"
  },
  "language_info": {
   "codemirror_mode": {
    "name": "ipython",
    "version": 3
   },
   "file_extension": ".py",
   "mimetype": "text/x-python",
   "name": "python",
   "nbconvert_exporter": "python",
   "pygments_lexer": "ipython3",
   "version": "3.9.12"
  }
 },
 "nbformat": 4,
 "nbformat_minor": 5
}
