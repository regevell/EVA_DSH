{
 "cells": [
  {
   "cell_type": "markdown",
   "id": "13564ef7",
   "metadata": {},
   "source": [
    "# Recirculated VAV HVAC System"
   ]
  },
  {
   "cell_type": "markdown",
   "id": "9a517c0f",
   "metadata": {},
   "source": [
    "## Introduction\n",
    "For our group project we have decided to model a recirculated air variable air volume (VAV) HVAC system with heat recovery, heating coils and adiabatic humidification. The schematic diagram for this system is shown below.\n",
    "\n",
    "<img src=\"Model Legend.png\" style=\"margin:auto\"/>"
   ]
  },
  {
   "cell_type": "markdown",
   "id": "a5eb846b-ccb8-44ad-b877-7594f2079f2d",
   "metadata": {},
   "source": [
    "## Heat Recovery\n",
    "We have created a model for the heat recovery component of the system which extracts the heat from the exhaust air and transfers it to the incoming air using a heat exchanger. The three process blocks in the model is the cooling side of the exchanger (***XC***), the heating side of the exchanger (***XH***) and the mixing of the cooled and non-cooled exhaust air (***XM***). ***s*** denotes that the exit flow from XC is saturated vapour, where condensing of the water vapour has occured. The model is shown in the diagram below.\n",
    "\n",
    "<img src=\"Heat Exchanger Model.png\" style=\"margin:auto\"/>\n",
    "\n",
    "There are 9 unknown variables in the system:\n",
    "<p style=\"text-align: center;\">$\\theta_s$, $\\omega_s$, $\\theta_2$, $\\theta_4$, $\\omega_4$, $\\dot{Q}_s$, $\\dot{Q}_l$, $\\dot{Q}_x$, $\\dot{m}_w$ </p>\n",
    "\n",
    "There are 9 known variables in the system:\n",
    "<p style=\"text-align: center;\">$\\theta_1$, $\\omega_1$, $\\theta_3$, $\\omega_3$, $\\gamma$, $\\dot{m}_{da}$, $\\theta_s^0$, $\\omega_s^0$, $f'(\\theta_s^0)$</p>\n",
    "\n",
    "The 3 material characteristics of the the system are:\n",
    "<p style=\"text-align: center;\">$(UA)_{hx}$, $c_{da}$, $l$\n",
    "\n",
    "We therefore need 9 linear equations to solve for the number of unknown variables. These are shown below with the unknown values on the left hand side and the known variables on the righthand side:\n",
    "\\begin{equation}\n",
    "\\dot{Q}_x - \\dot{Q}_s - \\dot{Q}_l = 0  \\tag{1.2.0}\n",
    "\\end{equation}\n",
    "\\begin{equation}\n",
    "(UA)_{hx}\\theta_2 - (UA)_{hx}\\theta_4 + 2\\dot{Q}_s + 2\\dot{Q}_l = (UA)_{hx}(\\theta_3 - \\theta_3) \\tag{1.2.1}\n",
    "\\end{equation}\n",
    "\\begin{equation}\n",
    "\\dot{m}_{da}c_{da}\\theta_2 - \\dot{Q}_x - h_e\\dot{m}_{w} = \\dot{m}_{da}c_{da}\\theta_1 \\tag{1.2.2}\n",
    "\\end{equation}\n",
    "\\begin{equation}\n",
    "\\dot{m}_{w} = \\dot{m}_{da}(\\omega_3 - \\omega_4) \\tag{1.2.3}\n",
    "\\end{equation}\n",
    "\\begin{equation}\n",
    "(1 - \\gamma)\\dot{m}_{da}c_{da}\\theta_s + \\dot{Q}_s = (1 - \\gamma)\\dot{m}_{da}c_{da}\\theta_3 \\tag{1.2.4}\n",
    "\\end{equation}\n",
    "\\begin{equation}\n",
    "(1 - \\gamma)\\dot{m}_{da}l\\omega_s + \\dot{Q}_l = (1 - \\gamma)\\dot{m}_{da}l\\omega_3 \\tag{1.2.5}\n",
    "\\end{equation}\n",
    "\\begin{equation}\n",
    "f'(\\theta_s^0)\\theta_s - \\omega_s = f'(\\theta_s^0)\\theta_s^0 - \\omega_s^0 \\tag{1.2.6}\n",
    "\\end{equation}\n",
    "\\begin{equation}\n",
    "\\theta_4 - (1 - \\gamma)\\theta_s = \\gamma\\theta_3 \\tag{1.2.7}\n",
    "\\end{equation}\n",
    "\\begin{equation}\n",
    "\\omega_4 - (1 - \\gamma)\\omega_s = \\gamma\\omega_3 \\tag{1.2.8}\n",
    "\\end{equation}\n",
    "    \n",
    "The term $h_{e}\\dot{m}_{w}$ in equation (1.2.2) can be neglected as $\\dot{m}_{w}<<\\dot{m}_{da}$. This means we can also neglect equation (1.2.3) as it will have no significant effect on the system. By excluding $\\dot{m}_{w}$ this means there are now only 8 unknown variables and therefore only 8 linear equations are required. $(UA)_{hx}$ is the heat transfer coefficient of the heat exchanger and **not** the heat transfer coefficient of the building.\n",
    "\n",
    "The linear system of equations can be expressed in the matrix form **A** ***x*** = **b** where **A** is an 8 x 8 matrix containing the coefficients of the unknown variables, ***x*** is a 8 x 1 tensor of the unknown variables and **b** is a  8 x 1 tensor of the known values. These are shown below for defined system of linear equations.\n",
    "    \n",
    "$ \\color{black}{ A= \\left(\\begin{array}{cc}\n",
    "0 & 0 & 0 & 0 & 0 & -1 & -1 & 1 \\\\ \n",
    "(UA)_{hx} & 0 & 0 & -(UA)_{hx} & 0 & 2 & 2 & 0 \\\\ \n",
    "\\dot{m}_{da}c_{da} & 0 & 0 & 0 & 0 & 0 & 0 & -1 \\\\ \n",
    "0 & (1 - \\gamma)\\dot{m}_{da}c_{da} & 0 & 0 & 0 & 0 & 1 & 0 \\\\\n",
    "0 & 0 & (1 - \\gamma)\\dot{m}_{da}l & 0 & 0 & 1 & 0 & 0 \\\\\n",
    "0 & f'(\\theta_s^0) & -1 & 0 & 0 & 0 & 0 & 0 \\\\\n",
    "0 & -(1 - \\gamma) & 0 & 1 & 0 & 0 & 0 & 0 \\\\\n",
    "0 & 0 & -(1 - \\gamma) & 0 & 1 & 0 & 0 & 0\n",
    "\\end{array}\\right)\n",
    "}$\n",
    "\n",
    "$ \\color{black}{ x= \\left(\\begin{array}{cc}\n",
    "\\theta_2 \\\\ \n",
    "\\theta_s \\\\ \n",
    "\\omega_s \\\\ \n",
    "\\theta_4 \\\\ \n",
    "\\omega_4 \\\\\n",
    "\\dot{Q}_l \\\\\n",
    "\\dot{Q}_s \\\\\n",
    "\\dot{Q}_x \\\\\n",
    "\\end{array}\\right)\n",
    "}$\n",
    "    \n",
    "$ \\color{black}{ b= \\left(\\begin{array}{cc}\n",
    "0 \\\\ \n",
    "(UA)_{hx}(\\theta_3 - \\theta_4) \\\\ \n",
    "\\dot{m}_{da}c_{da}\\theta_1 \\\\ \n",
    "(1 - \\gamma)\\dot{m}_{da}c_{da}\\theta_3 \\\\\n",
    "(1 - \\gamma)\\dot{m}_{da}l\\omega_3 \\\\\n",
    "f'(\\theta_s^0)\\theta_s^0 - \\omega_s^0 \\\\\n",
    "\\gamma\\theta_3 \\\\\n",
    "\\gamma\\omega_3 \\\\\n",
    "\\end{array}\\right)\n",
    "}$"
   ]
  },
  {
   "cell_type": "markdown",
   "id": "cf0832e3-c79e-49e7-b199-002050f31712",
   "metadata": {},
   "source": [
    "The code for solving this linear set of equations is shown below which creates a pyschrometric chart with sliders of the input variables to see how the behaviour of the system changes."
   ]
  },
  {
   "cell_type": "markdown",
   "id": "b6a1c3d6-de6b-45f9-968a-d1fdf7b02f55",
   "metadata": {},
   "source": [
    "## Adiabatic Mixing\n",
    "In some cases where mixing occurs the resulting mixing point can have a relative humidity greater than 100% which is not physically possible as the water in the air will condense as soon as the air is over saturated. This therefore must be compensated for in the computational model by adding adiabatic mixing, where the latent heat of the air at the mixing point is transferred into sensible heat at a constant specific enthalpy value. This will move the mixing point from the oversaturated region to the saturation curve."
   ]
  },
  {
   "cell_type": "markdown",
   "id": "a0ef0d25-5afc-49ed-b23b-d621c743240d",
   "metadata": {},
   "source": [
    "## VAV HVAC Heating and Humidification System"
   ]
  }
 ],
 "metadata": {
  "kernelspec": {
   "display_name": "Python 3",
   "language": "python",
   "name": "python3"
  },
  "language_info": {
   "codemirror_mode": {
    "name": "ipython",
    "version": 3
   },
   "file_extension": ".py",
   "mimetype": "text/x-python",
   "name": "python",
   "nbconvert_exporter": "python",
   "pygments_lexer": "ipython3",
   "version": "3.8.8"
  }
 },
 "nbformat": 4,
 "nbformat_minor": 5
}
