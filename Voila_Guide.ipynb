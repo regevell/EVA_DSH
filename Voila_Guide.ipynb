{
 "cells": [
  {
   "cell_type": "markdown",
   "id": "ae191f68-eb2e-4ad7-afdc-26c05b2357ac",
   "metadata": {},
   "source": [
    "Needed packages for voila (need to be installed in the terminal):"
   ]
  },
  {
   "cell_type": "raw",
   "id": "41974def-eb2c-4da7-9d70-fe2a9cbe06c9",
   "metadata": {},
   "source": [
    "pip install widgetsnbextension \n",
    "pip install ipywidgets \n",
    "pip install voila"
   ]
  },
  {
   "cell_type": "markdown",
   "id": "919fbac2-e5e6-4791-a0ee-15c624d22ddb",
   "metadata": {},
   "source": [
    "Lines needed in the Notebook, to enable the packages (should be commented out after running the cell once):"
   ]
  },
  {
   "cell_type": "code",
   "execution_count": 3,
   "id": "6ae4f20b-8f75-41c8-8621-1d204a76753b",
   "metadata": {},
   "outputs": [
    {
     "data": {
      "application/vnd.jupyter.widget-view+json": {
       "model_id": "9b81cbb6479e411784ff1de75ce40ccc",
       "version_major": 2,
       "version_minor": 0
      },
      "text/plain": [
       "interactive(children=(FloatSlider(value=3.0, description='m', max=6.0, min=0.2, step=0.2), FloatSlider(value=0…"
      ]
     },
     "metadata": {},
     "output_type": "display_data"
    }
   ],
   "source": [
    "!jupyter nbextension enable --py widgetsnbextension --sys-prefix\n",
    "!jupyter serverextension enable voila --sys-prefix"
   ]
  },
  {
   "cell_type": "markdown",
   "id": "f2de96d0-e8b7-4045-bb7a-fc314eb671a5",
   "metadata": {},
   "source": [
    "Command to render notebook as a web application (to be executed from the terminal):"
   ]
  },
  {
   "cell_type": "markdown",
   "id": "a6ba58e8-2b02-48d7-9a7f-71ea9f10dfc0",
   "metadata": {},
   "source": [
    "voila path\\notebook_name.ipynb"
   ]
  }
 ],
 "metadata": {
  "kernelspec": {
   "display_name": "Python 3 (ipykernel)",
   "language": "python",
   "name": "python3"
  },
  "language_info": {
   "codemirror_mode": {
    "name": "ipython",
    "version": 3
   },
   "file_extension": ".py",
   "mimetype": "text/x-python",
   "name": "python",
   "nbconvert_exporter": "python",
   "pygments_lexer": "ipython3",
   "version": "3.9.12"
  }
 },
 "nbformat": 4,
 "nbformat_minor": 5
}
