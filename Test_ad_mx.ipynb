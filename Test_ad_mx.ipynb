{
 "cells": [
  {
   "cell_type": "code",
   "execution_count": 1,
   "id": "63ca57bc-7e0f-44f1-9b4b-e5e1d16e39b0",
   "metadata": {},
   "outputs": [
    {
     "data": {
      "application/vnd.jupyter.widget-view+json": {
       "model_id": "30a66378a7c846ffbfb2b0a65330287f",
       "version_major": 2,
       "version_minor": 0
      },
      "text/plain": [
       "interactive(children=(FloatSlider(value=1.0, description='α', max=1.0), FloatSlider(value=0.1, description='β'…"
      ]
     },
     "metadata": {},
     "output_type": "display_data"
    }
   ],
   "source": [
    "from ipywidgets import interact, interactive, fixed, interact_manual\n",
    "import ipywidgets as widgets\n",
    "import matplotlib.pyplot as plt\n",
    "import psychro as psy\n",
    "\n",
    "# %matplotlib inline  # uncomment for inline figure\n",
    "# uncomment for figure in separate window\n",
    "# %matplotlib qt\n",
    "# plt.show()\n",
    "\n",
    "plt.rcParams[\"figure.figsize\"] = (30,20)\n",
    "font = {'weight' : 'bold',\n",
    "        'size'   : 30}\n",
    "plt.rc('font', **font)\n",
    "\n",
    "def RecAirVAV_wd(α=1, β=0.1, θS=30, θIsp=18, φIsp=0.5, θO=-1, φO=1):\n",
    "    Qsa = 0.\n",
    "    Qla = 0.\n",
    "    mi = 2.12\n",
    "    UA = 935.83\n",
    "    from ad_hum import RecAirVAVmxmx, RecAirVAVmxma, RecAirVAVmamx, RecAirVAVmama, RecAirVAV_adTest\n",
    "    \n",
    "    x = RecAirVAV_adTest(α, β, θS, θIsp, φIsp, θO, φO, Qsa, Qla, mi, UA)\n",
    "\n",
    "    if x[9] > psy.w(x[8], 1):\n",
    "        if x[1] > psy.w(x[0], 1):\n",
    "            RecAirVAVmama(α, β, θS, θIsp, φIsp, θO, φO, Qsa, Qla, mi, UA)\n",
    "            print('mama')\n",
    "        else:\n",
    "            RecAirVAVmxma(α, β, θS, θIsp, φIsp, θO, φO, Qsa, Qla, mi, UA)\n",
    "            print('mxma')\n",
    "    elif x[1] > psy.w(x[0], 1):\n",
    "        RecAirVAVmamx(α, β, θS, θIsp, φIsp, θO, φO, Qsa, Qla, mi, UA)\n",
    "        print('mamx')\n",
    "    else:\n",
    "        RecAirVAVmxmx(α, β, θS, θIsp, φIsp, θO, φO, Qsa, Qla, mi, UA)\n",
    "        print('mxmx')\n",
    "    \n",
    "interact(RecAirVAV_wd, α=(0, 1, 0.1), β=(0, 0.99, 0.1), θSsp=(20, 50, 2),\n",
    "         θIsp=(17, 25, 1), φIsp=(0, 1, 0.1),\n",
    "         θO = (-10., 17., 2), φO = (0, 1, 0.1));"
   ]
  },
  {
   "cell_type": "code",
   "execution_count": null,
   "id": "aacb2f22-ccc6-400a-89e1-2240ce29c370",
   "metadata": {},
   "outputs": [],
   "source": []
  }
 ],
 "metadata": {
  "kernelspec": {
   "display_name": "Python 3",
   "language": "python",
   "name": "python3"
  },
  "language_info": {
   "codemirror_mode": {
    "name": "ipython",
    "version": 3
   },
   "file_extension": ".py",
   "mimetype": "text/x-python",
   "name": "python",
   "nbconvert_exporter": "python",
   "pygments_lexer": "ipython3",
   "version": "3.8.8"
  }
 },
 "nbformat": 4,
 "nbformat_minor": 5
}
